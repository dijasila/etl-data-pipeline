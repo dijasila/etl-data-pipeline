{
 "cells": [
  {
   "cell_type": "code",
   "execution_count": null,
   "metadata": {},
   "outputs": [],
   "source": [
    "# ETL Data Pipeline for Sales Data\n",
    "\n",
    "## Extract\n",
    "- Import the `extract_data.py` module and call the function to extract data from the SQLite database.\n",
    "\n",
    "## Transform\n",
    "- Import the `clean_data.py` and `manipulate_data.py` modules.\n",
    "- Call functions to clean and manipulate the data.\n",
    "\n",
    "## Load\n",
    "- Import the `load_data.py` module and load the manipulated data into the SQLite database.\n",
    "\n",
    "## Visualization\n",
    "- Import the `visualize_data.py` module and visualize the results."
   ]
  }
 ],
 "metadata": {
  "language_info": {
   "name": "python"
  }
 },
 "nbformat": 4,
 "nbformat_minor": 2
}
